{
  "nbformat": 4,
  "nbformat_minor": 0,
  "metadata": {
    "colab": {
      "provenance": [],
      "authorship_tag": "ABX9TyMMdwjhWoP5il/FAvQWvXen",
      "include_colab_link": true
    },
    "kernelspec": {
      "name": "python3",
      "display_name": "Python 3"
    },
    "language_info": {
      "name": "python"
    }
  },
  "cells": [
    {
      "cell_type": "markdown",
      "metadata": {
        "id": "view-in-github",
        "colab_type": "text"
      },
      "source": [
        "<a href=\"https://colab.research.google.com/github/larry-tableau/tableau/blob/main/GPT_Crawler_v2_0.ipynb\" target=\"_parent\"><img src=\"https://colab.research.google.com/assets/colab-badge.svg\" alt=\"Open In Colab\"/></a>"
      ]
    },
    {
      "cell_type": "markdown",
      "source": [
        "Here are the URL's for the documents:\n",
        "\n",
        "Blueprint: https://help.tableau.com/current/offline/en-gb/tableau_blueprint.pdf\n",
        "Tableau Cloud: https://help.tableau.com/current/offline/en-us/tableau_online.pdf\n",
        "Desktop and web authoring: https://help.tableau.com/current/offline/en-us/tableau_desktop.pdf\n",
        "\n",
        "Tableau Prep: https://help.tableau.com/current/offline/en-us/tableau_prep.pdf\n",
        "\n",
        "Tab EDG: https://help.tableau.com/current/offline/en-us/tableau_server_enterprise_deployment_guide.pdf\n",
        "\n",
        "List item\n",
        "\n",
        "export const defaultConfig: Config = { url: \"https://www.consumer.vic.gov.au/housing\", match: \"https://www.consumer.vic.gov.au/housing/**\", maxPagesToCrawl: 5000, outputFileName: \"output-renting-leasing.json\", maxTokens: 2000000,"
      ],
      "metadata": {
        "id": "1gBFRM5MFrZ3"
      }
    },
    {
      "cell_type": "code",
      "execution_count": null,
      "metadata": {
        "id": "4urOGyc-FfR0"
      },
      "outputs": [],
      "source": [
        "!curl -fSsL https://deb.nodesource.com/setup_20.x | sudo -E bash -\n",
        "#!sudo apt-get install -y nodejs\n",
        "!sudo apt-get install nsolid -y\n",
        "!git clone https://github.com/builderio/gpt-crawler\n",
        "%cd gpt-crawler\n",
        "!npm install\n",
        "!npm install -g npm@latest\n",
        "!npm audit\n",
        "!npm audit fix"
      ]
    },
    {
      "cell_type": "code",
      "source": [
        "# Define the URL and pattern match as variables for use throughout the script\n",
        "url = \"https://docs.crewai.com/introduction\"  # Example URL\n",
        "pattern_match = \"https://docs.crewai.com/**\"  # Example pattern match\n"
      ],
      "metadata": {
        "id": "nbNRbNIMchU3"
      },
      "execution_count": null,
      "outputs": []
    },
    {
      "cell_type": "code",
      "source": [
        "import os\n",
        "\n",
        "# Generate config.ts with dynamic values for URL and match pattern\n",
        "def generate_config(url, pattern_match):\n",
        "    # Extracting file name for output using os.path\n",
        "    htmlFileName = os.path.basename(url)\n",
        "    outputFileName = f\"{os.path.splitext(htmlFileName)[0]}.json\"  # JSON file for output\n",
        "\n",
        "    # TypeScript config content with dynamic URL, pattern, and output file\n",
        "    config_content = f\"\"\"\n",
        "    import {{ Config }} from \"./src/config\";\n",
        "\n",
        "    export const defaultConfig: Config = {{\n",
        "      url: \"{url}\",\n",
        "      match: \"{pattern_match}\",\n",
        "      maxPagesToCrawl: 5000,\n",
        "      outputFileName: \"{outputFileName}\",\n",
        "      maxTokens: 2000000,\n",
        "    }};\n",
        "    \"\"\"\n",
        "\n",
        "    # Write to config.ts file in gpt-crawler directory\n",
        "    with open('/content/gpt-crawler/config.ts', 'w') as f:\n",
        "        f.write(config_content)\n",
        "\n",
        "    print(f\"Config file generated with URL: {url} and Match Pattern: {pattern_match}\")\n",
        "\n",
        "# Generate config using the provided URL and pattern\n",
        "generate_config(url, pattern_match)\n"
      ],
      "metadata": {
        "id": "mxRChUZnFvMd",
        "colab": {
          "base_uri": "https://localhost:8080/"
        },
        "outputId": "5def0dac-185b-4ebb-e35a-3c75c02baf64"
      },
      "execution_count": null,
      "outputs": [
        {
          "output_type": "stream",
          "name": "stdout",
          "text": [
            "Config file generated with URL: https://docs.crewai.com/introduction and Match Pattern: https://docs.crewai.com/**\n"
          ]
        }
      ]
    },
    {
      "cell_type": "code",
      "source": [
        "!cat config.ts"
      ],
      "metadata": {
        "id": "CbM8BvIoF0Cl"
      },
      "execution_count": null,
      "outputs": []
    },
    {
      "cell_type": "code",
      "source": [
        "!npm start"
      ],
      "metadata": {
        "id": "ZFdgYTOnF2SW"
      },
      "execution_count": null,
      "outputs": []
    }
  ]
}